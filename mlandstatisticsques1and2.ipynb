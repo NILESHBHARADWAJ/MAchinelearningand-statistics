{
  "nbformat": 4,
  "nbformat_minor": 0,
  "metadata": {
    "colab": {
      "name": "mlandstatisticsques1and2.ipynb",
      "provenance": [],
      "collapsed_sections": []
    },
    "kernelspec": {
      "name": "python3",
      "display_name": "Python 3"
    }
  },
  "cells": [
    {
      "cell_type": "code",
      "metadata": {
        "id": "WuuVcDUbFMts"
      },
      "source": [
        "x=np.array((0.1,0.5,0.1))\n"
      ],
      "execution_count": null,
      "outputs": []
    },
    {
      "cell_type": "code",
      "metadata": {
        "id": "SPJ4LnsKFg8V"
      },
      "source": [
        "m1=np.array((0,0,0))\n"
      ],
      "execution_count": null,
      "outputs": []
    },
    {
      "cell_type": "code",
      "metadata": {
        "id": "kC-n6Y7WGBJp"
      },
      "source": [
        "m2=np.array((0.5,0.5,0.5))"
      ],
      "execution_count": null,
      "outputs": []
    },
    {
      "cell_type": "code",
      "metadata": {
        "id": "b8pnbiDiGMwT"
      },
      "source": [
        "m=np.array((m1,m2))"
      ],
      "execution_count": null,
      "outputs": []
    },
    {
      "cell_type": "code",
      "metadata": {
        "id": "49yD9pCPGQsW",
        "outputId": "e66b8528-7152-45cf-c606-d63d50a53bb6",
        "colab": {
          "base_uri": "https://localhost:8080/"
        }
      },
      "source": [
        "import numpy as np\n",
        "euclidean_distance1=np.linalg.norm(x-m1)\n",
        "print(euclidean_distance1)\n",
        "euclidean_distance2=np.linalg.norm(x-m2)\n",
        "print(euclidean_distance2)\n"
      ],
      "execution_count": null,
      "outputs": [
        {
          "output_type": "stream",
          "text": [
            "0.5196152422706632\n",
            "0.5656854249492381\n"
          ],
          "name": "stdout"
        }
      ]
    },
    {
      "cell_type": "code",
      "metadata": {
        "id": "dKVxlVmgJiNR",
        "outputId": "c8b3e355-09eb-4c72-8230-db5f485788c8",
        "colab": {
          "base_uri": "https://localhost:8080/"
        }
      },
      "source": [
        "from scipy.spatial import distance\n",
        "S=[[0.8,0.01,0.01],[0.01,0.2,0.01],[0.01,0.01,0.2]]\n",
        "i=np.linalg.inv(S)\n",
        "distance.mahalanobis(x,m1,i)"
      ],
      "execution_count": null,
      "outputs": [
        {
          "output_type": "execute_result",
          "data": {
            "text/plain": [
              "1.1333934185066137"
            ]
          },
          "metadata": {
            "tags": []
          },
          "execution_count": 24
        }
      ]
    },
    {
      "cell_type": "code",
      "metadata": {
        "id": "wEUz9ojGOoIa",
        "outputId": "f57a532a-fda4-4f9a-e58c-4abaffb5f4e4",
        "colab": {
          "base_uri": "https://localhost:8080/"
        }
      },
      "source": [
        "distance.mahalanobis(x,m2,i)"
      ],
      "execution_count": null,
      "outputs": [
        {
          "output_type": "execute_result",
          "data": {
            "text/plain": [
              "0.9917797764743564"
            ]
          },
          "metadata": {
            "tags": []
          },
          "execution_count": 25
        }
      ]
    },
    {
      "cell_type": "code",
      "metadata": {
        "id": "BDurTYbQRP_f"
      },
      "source": [
        ""
      ],
      "execution_count": null,
      "outputs": []
    },
    {
      "cell_type": "code",
      "metadata": {
        "id": "10PE4kbQfE7x",
        "outputId": "cd72b8e2-b5e1-483b-c742-cafd4952c990",
        "colab": {
          "base_uri": "https://localhost:8080/"
        }
      },
      "source": [
        "import numpy as np\n",
        "\n",
        "def gaussian_mle(data):                                                                                                                                                                               \n",
        "    mu = data.mean(axis=0)                                                                                                                                                                            \n",
        "    var = (data-mu).T @ (data-mu) / data.shape[0] \n",
        "\n",
        "    return mu, var \n",
        "\n",
        "mean = [2,-2]                                                                                                                                                                                    \n",
        "cov = [[0.9, 0.2], [0.2, 0.3]]                                                                                                                                                                         \n",
        "data = np.random.multivariate_normal(mean, cov, 50)                                                                                                                                                \n",
        "\n",
        "print(gaussian_mle(data))"
      ],
      "execution_count": null,
      "outputs": [
        {
          "output_type": "stream",
          "text": [
            "(array([ 2.30502794, -2.00671678]), array([[0.56854886, 0.23028395],\n",
            "       [0.23028395, 0.4231166 ]]))\n"
          ],
          "name": "stdout"
        }
      ]
    },
    {
      "cell_type": "markdown",
      "metadata": {
        "id": "zFqAGrDkfjTE"
      },
      "source": [
        "It can be observed that the estimates that define the corresponding Gaussian\n",
        "pdf, although close to the true values of the parameters, cannot be trusted as\n",
        "good estimates. This is due to the fact that 50 points are not enough to\n",
        "result in reliable estimates. Note that the returned values depend on the\n",
        "initialization of the random generator (involved in function mvnrnd), so\n",
        "there is a slight deviation among experiments."
      ]
    },
    {
      "cell_type": "code",
      "metadata": {
        "id": "d4BWUJ_efkui",
        "outputId": "655b46c5-29f9-41af-8004-6a0ba670e1ea",
        "colab": {
          "base_uri": "https://localhost:8080/"
        }
      },
      "source": [
        "import numpy as np\n",
        "\n",
        "def gaussian_mle(data):                                                                                                                                                                               \n",
        "    mu = data.mean(axis=0)                                                                                                                                                                            \n",
        "    var = (data-mu).T @ (data-mu) / data.shape[0] \n",
        "\n",
        "    return mu, var \n",
        "\n",
        "mean = [2,-2]                                                                                                                                                                                    \n",
        "cov = [[0.9, 0.2], [0.2, 0.3]]                                                                                                                                                                         \n",
        "data = np.random.multivariate_normal(mean, cov, 5000)                                                                                                                                                \n",
        "\n",
        "print(gaussian_mle(data))"
      ],
      "execution_count": null,
      "outputs": [
        {
          "output_type": "stream",
          "text": [
            "(array([ 2.01696721, -1.98946799]), array([[0.88123376, 0.19894601],\n",
            "       [0.19894601, 0.29669791]]))\n"
          ],
          "name": "stdout"
        }
      ]
    },
    {
      "cell_type": "code",
      "metadata": {
        "id": "NrFK36pLf2CC"
      },
      "source": [
        ""
      ],
      "execution_count": null,
      "outputs": []
    }
  ]
}